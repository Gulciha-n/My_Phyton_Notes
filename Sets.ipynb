{
 "cells": [
  {
   "cell_type": "markdown",
   "id": "e3d04782",
   "metadata": {},
   "source": [
    "## Sets"
   ]
  },
  {
   "cell_type": "code",
   "execution_count": 1,
   "id": "d309a8f2",
   "metadata": {},
   "outputs": [],
   "source": [
    "## We cannot write the same variable more than ones in the set. (we can write in the list.)"
   ]
  },
  {
   "cell_type": "markdown",
   "id": "3be9e412",
   "metadata": {},
   "source": [
    "## Turning a list to the a set."
   ]
  },
  {
   "cell_type": "code",
   "execution_count": 2,
   "id": "b29d301f",
   "metadata": {},
   "outputs": [],
   "source": [
    "list1 = [1,2,3,4,5,6,7,8,9]"
   ]
  },
  {
   "cell_type": "code",
   "execution_count": 3,
   "id": "3e018223",
   "metadata": {},
   "outputs": [
    {
     "data": {
      "text/plain": [
       "[1, 2, 3, 4, 5, 6, 7, 8, 9]"
      ]
     },
     "execution_count": 3,
     "metadata": {},
     "output_type": "execute_result"
    }
   ],
   "source": [
    "list1"
   ]
  },
  {
   "cell_type": "code",
   "execution_count": 5,
   "id": "30a2d908",
   "metadata": {},
   "outputs": [
    {
     "data": {
      "text/plain": [
       "{1, 2, 3, 4, 5, 6, 7, 8, 9}"
      ]
     },
     "execution_count": 5,
     "metadata": {},
     "output_type": "execute_result"
    }
   ],
   "source": [
    "set (list1)"
   ]
  },
  {
   "cell_type": "code",
   "execution_count": 6,
   "id": "fae8df55",
   "metadata": {},
   "outputs": [],
   "source": [
    "list2 = [1,1,2,2,3,3,4,4,5,5,6,6]"
   ]
  },
  {
   "cell_type": "code",
   "execution_count": 8,
   "id": "b4f7a168",
   "metadata": {},
   "outputs": [],
   "source": [
    "X = set (list2)"
   ]
  },
  {
   "cell_type": "code",
   "execution_count": 9,
   "id": "c2afa324",
   "metadata": {},
   "outputs": [
    {
     "data": {
      "text/plain": [
       "{1, 2, 3, 4, 5, 6}"
      ]
     },
     "execution_count": 9,
     "metadata": {},
     "output_type": "execute_result"
    }
   ],
   "source": [
    "X"
   ]
  },
  {
   "cell_type": "code",
   "execution_count": 10,
   "id": "c16cd35f",
   "metadata": {},
   "outputs": [
    {
     "data": {
      "text/plain": [
       "set"
      ]
     },
     "execution_count": 10,
     "metadata": {},
     "output_type": "execute_result"
    }
   ],
   "source": [
    "type (X)"
   ]
  },
  {
   "cell_type": "markdown",
   "id": "c2c91e05",
   "metadata": {},
   "source": [
    "--------------------------------------------------------------------------------------------------------------------------"
   ]
  },
  {
   "cell_type": "code",
   "execution_count": 11,
   "id": "50321beb",
   "metadata": {},
   "outputs": [],
   "source": [
    "EmptyList = []"
   ]
  },
  {
   "cell_type": "code",
   "execution_count": 12,
   "id": "8bddea87",
   "metadata": {},
   "outputs": [
    {
     "data": {
      "text/plain": [
       "[]"
      ]
     },
     "execution_count": 12,
     "metadata": {},
     "output_type": "execute_result"
    }
   ],
   "source": [
    "EmptyList"
   ]
  },
  {
   "cell_type": "code",
   "execution_count": 15,
   "id": "8b7a9a93",
   "metadata": {},
   "outputs": [],
   "source": [
    "EmptyList.append(\"a\")"
   ]
  },
  {
   "cell_type": "code",
   "execution_count": 16,
   "id": "17e3e2b7",
   "metadata": {},
   "outputs": [
    {
     "data": {
      "text/plain": [
       "[12, 'a']"
      ]
     },
     "execution_count": 16,
     "metadata": {},
     "output_type": "execute_result"
    }
   ],
   "source": [
    "EmptyList "
   ]
  },
  {
   "cell_type": "code",
   "execution_count": 17,
   "id": "1f0a74ca",
   "metadata": {},
   "outputs": [],
   "source": [
    "EmptyDict = {}"
   ]
  },
  {
   "cell_type": "code",
   "execution_count": 18,
   "id": "2d6e1e78",
   "metadata": {},
   "outputs": [
    {
     "data": {
      "text/plain": [
       "{}"
      ]
     },
     "execution_count": 18,
     "metadata": {},
     "output_type": "execute_result"
    }
   ],
   "source": [
    "EmptyDict "
   ]
  },
  {
   "cell_type": "code",
   "execution_count": 19,
   "id": "0d96b5b0",
   "metadata": {},
   "outputs": [],
   "source": [
    "EmptyDict [\"key1\"] = 10    ## we add a value to the dictionary like this."
   ]
  },
  {
   "cell_type": "code",
   "execution_count": 20,
   "id": "454bc9e2",
   "metadata": {},
   "outputs": [
    {
     "data": {
      "text/plain": [
       "{'key1': 10}"
      ]
     },
     "execution_count": 20,
     "metadata": {},
     "output_type": "execute_result"
    }
   ],
   "source": [
    "EmptyDict"
   ]
  },
  {
   "cell_type": "markdown",
   "id": "88d43cb8",
   "metadata": {},
   "source": [
    "## Creating an empty set "
   ]
  },
  {
   "cell_type": "markdown",
   "id": "f03bce18",
   "metadata": {},
   "source": [
    " ## We have to write \"set\" before the parenthesis. "
   ]
  },
  {
   "cell_type": "code",
   "execution_count": 21,
   "id": "ce946212",
   "metadata": {},
   "outputs": [],
   "source": [
    "EmptySet = set ()     "
   ]
  },
  {
   "cell_type": "code",
   "execution_count": 22,
   "id": "6adc5d6a",
   "metadata": {},
   "outputs": [
    {
     "data": {
      "text/plain": [
       "set()"
      ]
     },
     "execution_count": 22,
     "metadata": {},
     "output_type": "execute_result"
    }
   ],
   "source": [
    "EmptySet"
   ]
  },
  {
   "cell_type": "code",
   "execution_count": 23,
   "id": "9059222f",
   "metadata": {},
   "outputs": [],
   "source": [
    "EmptySet.add(20)"
   ]
  },
  {
   "cell_type": "code",
   "execution_count": 26,
   "id": "9a7f8821",
   "metadata": {},
   "outputs": [],
   "source": [
    "EmptySet.add(30)"
   ]
  },
  {
   "cell_type": "code",
   "execution_count": 27,
   "id": "7944f5d6",
   "metadata": {},
   "outputs": [],
   "source": [
    "EmptySet.add (20)"
   ]
  },
  {
   "cell_type": "code",
   "execution_count": 28,
   "id": "c200e2dc",
   "metadata": {},
   "outputs": [
    {
     "data": {
      "text/plain": [
       "{20, 30}"
      ]
     },
     "execution_count": 28,
     "metadata": {},
     "output_type": "execute_result"
    }
   ],
   "source": [
    "EmptySet"
   ]
  },
  {
   "cell_type": "markdown",
   "id": "4731035d",
   "metadata": {},
   "source": [
    "## We can do it this way (with parenthesis) for other data types as well (list , dict , etc. )"
   ]
  },
  {
   "cell_type": "code",
   "execution_count": 33,
   "id": "577844f3",
   "metadata": {},
   "outputs": [],
   "source": [
    "list3 = list ()"
   ]
  },
  {
   "cell_type": "code",
   "execution_count": 34,
   "id": "103e821f",
   "metadata": {},
   "outputs": [
    {
     "data": {
      "text/plain": [
       "[]"
      ]
     },
     "execution_count": 34,
     "metadata": {},
     "output_type": "execute_result"
    }
   ],
   "source": [
    "list3 "
   ]
  },
  {
   "cell_type": "code",
   "execution_count": 35,
   "id": "acb0e53c",
   "metadata": {},
   "outputs": [],
   "source": [
    "list3.append(30)"
   ]
  },
  {
   "cell_type": "code",
   "execution_count": 36,
   "id": "72349b53",
   "metadata": {},
   "outputs": [
    {
     "data": {
      "text/plain": [
       "[30]"
      ]
     },
     "execution_count": 36,
     "metadata": {},
     "output_type": "execute_result"
    }
   ],
   "source": [
    "list3 "
   ]
  },
  {
   "cell_type": "code",
   "execution_count": 37,
   "id": "6cede050",
   "metadata": {},
   "outputs": [],
   "source": [
    "dict1 = dict ()"
   ]
  },
  {
   "cell_type": "code",
   "execution_count": 38,
   "id": "4b38bf4f",
   "metadata": {},
   "outputs": [
    {
     "data": {
      "text/plain": [
       "{}"
      ]
     },
     "execution_count": 38,
     "metadata": {},
     "output_type": "execute_result"
    }
   ],
   "source": [
    "dict1 "
   ]
  },
  {
   "cell_type": "code",
   "execution_count": 39,
   "id": "7b5211a4",
   "metadata": {},
   "outputs": [],
   "source": [
    "dict1 [\"key2\"] = 100"
   ]
  },
  {
   "cell_type": "code",
   "execution_count": 40,
   "id": "891d01af",
   "metadata": {},
   "outputs": [
    {
     "data": {
      "text/plain": [
       "{'key2': 100}"
      ]
     },
     "execution_count": 40,
     "metadata": {},
     "output_type": "execute_result"
    }
   ],
   "source": [
    "dict1"
   ]
  },
  {
   "cell_type": "code",
   "execution_count": 41,
   "id": "98282548",
   "metadata": {},
   "outputs": [],
   "source": [
    "dict1 [\"key3\"] = \"Hello I am learning phyton\""
   ]
  },
  {
   "cell_type": "code",
   "execution_count": 42,
   "id": "899010e7",
   "metadata": {},
   "outputs": [
    {
     "data": {
      "text/plain": [
       "{'key2': 100, 'key3': 'Hello I am learning phyton'}"
      ]
     },
     "execution_count": 42,
     "metadata": {},
     "output_type": "execute_result"
    }
   ],
   "source": [
    "dict1"
   ]
  }
 ],
 "metadata": {
  "kernelspec": {
   "display_name": "Python 3 (ipykernel)",
   "language": "python",
   "name": "python3"
  },
  "language_info": {
   "codemirror_mode": {
    "name": "ipython",
    "version": 3
   },
   "file_extension": ".py",
   "mimetype": "text/x-python",
   "name": "python",
   "nbconvert_exporter": "python",
   "pygments_lexer": "ipython3",
   "version": "3.9.13"
  }
 },
 "nbformat": 4,
 "nbformat_minor": 5
}
