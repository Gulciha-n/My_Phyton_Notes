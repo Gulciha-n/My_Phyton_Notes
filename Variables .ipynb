{
 "cells": [
  {
   "cell_type": "markdown",
   "id": "1ba874f1",
   "metadata": {},
   "source": [
    "## Veriables "
   ]
  },
  {
   "cell_type": "code",
   "execution_count": 17,
   "id": "04bd9802",
   "metadata": {},
   "outputs": [],
   "source": [
    "x=6"
   ]
  },
  {
   "cell_type": "code",
   "execution_count": 18,
   "id": "80d1da26",
   "metadata": {},
   "outputs": [],
   "source": [
    "y=8"
   ]
  },
  {
   "cell_type": "code",
   "execution_count": 19,
   "id": "042cbd7b",
   "metadata": {},
   "outputs": [
    {
     "data": {
      "text/plain": [
       "48"
      ]
     },
     "execution_count": 19,
     "metadata": {},
     "output_type": "execute_result"
    }
   ],
   "source": [
    "x*y"
   ]
  },
  {
   "cell_type": "code",
   "execution_count": 20,
   "id": "14c9a455",
   "metadata": {},
   "outputs": [
    {
     "data": {
      "text/plain": [
       "14"
      ]
     },
     "execution_count": 20,
     "metadata": {},
     "output_type": "execute_result"
    }
   ],
   "source": [
    "x+y"
   ]
  },
  {
   "cell_type": "code",
   "execution_count": 21,
   "id": "ef89d118",
   "metadata": {},
   "outputs": [
    {
     "data": {
      "text/plain": [
       "0.75"
      ]
     },
     "execution_count": 21,
     "metadata": {},
     "output_type": "execute_result"
    }
   ],
   "source": [
    "x/y"
   ]
  },
  {
   "cell_type": "code",
   "execution_count": 22,
   "id": "a33f4d23",
   "metadata": {},
   "outputs": [],
   "source": [
    "y=10"
   ]
  },
  {
   "cell_type": "code",
   "execution_count": 23,
   "id": "f96b9ec5",
   "metadata": {},
   "outputs": [
    {
     "data": {
      "text/plain": [
       "60"
      ]
     },
     "execution_count": 23,
     "metadata": {},
     "output_type": "execute_result"
    }
   ],
   "source": [
    "x*y"
   ]
  },
  {
   "cell_type": "code",
   "execution_count": 24,
   "id": "c208e84c",
   "metadata": {},
   "outputs": [
    {
     "data": {
      "text/plain": [
       "-4"
      ]
     },
     "execution_count": 24,
     "metadata": {},
     "output_type": "execute_result"
    }
   ],
   "source": [
    "x-y"
   ]
  },
  {
   "cell_type": "code",
   "execution_count": 25,
   "id": "a4585578",
   "metadata": {},
   "outputs": [],
   "source": [
    "x=20"
   ]
  },
  {
   "cell_type": "code",
   "execution_count": 26,
   "id": "5de39aa3",
   "metadata": {},
   "outputs": [
    {
     "data": {
      "text/plain": [
       "30"
      ]
     },
     "execution_count": 26,
     "metadata": {},
     "output_type": "execute_result"
    }
   ],
   "source": [
    "x+y"
   ]
  },
  {
   "cell_type": "code",
   "execution_count": 27,
   "id": "ce670079",
   "metadata": {},
   "outputs": [
    {
     "data": {
      "text/plain": [
       "200"
      ]
     },
     "execution_count": 27,
     "metadata": {},
     "output_type": "execute_result"
    }
   ],
   "source": [
    "x*y"
   ]
  },
  {
   "cell_type": "markdown",
   "id": "b0accba7",
   "metadata": {},
   "source": [
    "## İNTEGER & FLOAT"
   ]
  },
  {
   "cell_type": "code",
   "execution_count": 28,
   "id": "9edebbfb",
   "metadata": {},
   "outputs": [],
   "source": [
    "firstveriable=55\n",
    "secondveriable=11"
   ]
  },
  {
   "cell_type": "code",
   "execution_count": 29,
   "id": "c823e1a5",
   "metadata": {},
   "outputs": [
    {
     "data": {
      "text/plain": [
       "66"
      ]
     },
     "execution_count": 29,
     "metadata": {},
     "output_type": "execute_result"
    }
   ],
   "source": [
    "firstveriable + secondveriable"
   ]
  },
  {
   "cell_type": "code",
   "execution_count": 30,
   "id": "76ed30cb",
   "metadata": {},
   "outputs": [],
   "source": [
    "## type(x)  ==> gives type of the veriable = x  "
   ]
  },
  {
   "cell_type": "code",
   "execution_count": 31,
   "id": "20067329",
   "metadata": {},
   "outputs": [
    {
     "data": {
      "text/plain": [
       "int"
      ]
     },
     "execution_count": 31,
     "metadata": {},
     "output_type": "execute_result"
    }
   ],
   "source": [
    "type (firstveriable)"
   ]
  },
  {
   "cell_type": "code",
   "execution_count": 32,
   "id": "fe03e0a3",
   "metadata": {},
   "outputs": [
    {
     "data": {
      "text/plain": [
       "int"
      ]
     },
     "execution_count": 32,
     "metadata": {},
     "output_type": "execute_result"
    }
   ],
   "source": [
    "type (secondveriable)"
   ]
  },
  {
   "cell_type": "code",
   "execution_count": 33,
   "id": "acc13443",
   "metadata": {},
   "outputs": [],
   "source": [
    "result = firstveriable / secondveriable"
   ]
  },
  {
   "cell_type": "code",
   "execution_count": 34,
   "id": "e883a20b",
   "metadata": {},
   "outputs": [
    {
     "data": {
      "text/plain": [
       "5.0"
      ]
     },
     "execution_count": 34,
     "metadata": {},
     "output_type": "execute_result"
    }
   ],
   "source": [
    "result"
   ]
  },
  {
   "cell_type": "code",
   "execution_count": 35,
   "id": "b67a3c94",
   "metadata": {},
   "outputs": [
    {
     "data": {
      "text/plain": [
       "1"
      ]
     },
     "execution_count": 35,
     "metadata": {},
     "output_type": "execute_result"
    }
   ],
   "source": [
    "firstveriable.denominator"
   ]
  },
  {
   "cell_type": "code",
   "execution_count": 36,
   "id": "6dedfbee",
   "metadata": {},
   "outputs": [
    {
     "data": {
      "text/plain": [
       "1"
      ]
     },
     "execution_count": 36,
     "metadata": {},
     "output_type": "execute_result"
    }
   ],
   "source": [
    "secondveriable.denominator"
   ]
  },
  {
   "cell_type": "code",
   "execution_count": 37,
   "id": "76f817a1",
   "metadata": {},
   "outputs": [
    {
     "data": {
      "text/plain": [
       "55"
      ]
     },
     "execution_count": 37,
     "metadata": {},
     "output_type": "execute_result"
    }
   ],
   "source": [
    "firstveriable.numerator"
   ]
  },
  {
   "cell_type": "code",
   "execution_count": 38,
   "id": "6f2bc5ef",
   "metadata": {},
   "outputs": [
    {
     "data": {
      "text/plain": [
       "11"
      ]
     },
     "execution_count": 38,
     "metadata": {},
     "output_type": "execute_result"
    }
   ],
   "source": [
    "secondveriable.numerator"
   ]
  },
  {
   "cell_type": "code",
   "execution_count": 39,
   "id": "ff623482",
   "metadata": {},
   "outputs": [],
   "source": [
    "pi = 3.14"
   ]
  },
  {
   "cell_type": "code",
   "execution_count": 40,
   "id": "6fc73a59",
   "metadata": {},
   "outputs": [
    {
     "data": {
      "text/plain": [
       "float"
      ]
     },
     "execution_count": 40,
     "metadata": {},
     "output_type": "execute_result"
    }
   ],
   "source": [
    "type (pi)"
   ]
  },
  {
   "cell_type": "raw",
   "id": "f352e069",
   "metadata": {},
   "source": [
    " We can operate on different variables at the same time in python"
   ]
  },
  {
   "cell_type": "code",
   "execution_count": 41,
   "id": "88852882",
   "metadata": {},
   "outputs": [
    {
     "data": {
      "text/plain": [
       "58.14"
      ]
     },
     "execution_count": 41,
     "metadata": {},
     "output_type": "execute_result"
    }
   ],
   "source": [
    "pi + firstveriable"
   ]
  },
  {
   "cell_type": "code",
   "execution_count": 42,
   "id": "5efb760f",
   "metadata": {},
   "outputs": [
    {
     "data": {
      "text/plain": [
       "34.54"
      ]
     },
     "execution_count": 42,
     "metadata": {},
     "output_type": "execute_result"
    }
   ],
   "source": [
    "pi * secondveriable"
   ]
  },
  {
   "cell_type": "markdown",
   "id": "06d5a9d5",
   "metadata": {},
   "source": [
    "## Mathematical Operations "
   ]
  },
  {
   "cell_type": "code",
   "execution_count": 43,
   "id": "772f7398",
   "metadata": {},
   "outputs": [],
   "source": [
    "x = 10 \n",
    "y = 13 "
   ]
  },
  {
   "cell_type": "code",
   "execution_count": 44,
   "id": "f9275d53",
   "metadata": {},
   "outputs": [],
   "source": [
    "# finding the power of a number =  **  (two asterisk)"
   ]
  },
  {
   "cell_type": "code",
   "execution_count": 45,
   "id": "8f923033",
   "metadata": {},
   "outputs": [
    {
     "data": {
      "text/plain": [
       "1000"
      ]
     },
     "execution_count": 45,
     "metadata": {},
     "output_type": "execute_result"
    }
   ],
   "source": [
    "x ** 3"
   ]
  },
  {
   "cell_type": "code",
   "execution_count": 46,
   "id": "f6c4f430",
   "metadata": {},
   "outputs": [
    {
     "data": {
      "text/plain": [
       "169"
      ]
     },
     "execution_count": 46,
     "metadata": {},
     "output_type": "execute_result"
    }
   ],
   "source": [
    "y ** 2"
   ]
  },
  {
   "cell_type": "code",
   "execution_count": 47,
   "id": "ddd24b6a",
   "metadata": {},
   "outputs": [],
   "source": [
    "# finding  the remainder of a number = % "
   ]
  },
  {
   "cell_type": "code",
   "execution_count": 48,
   "id": "6a4b219a",
   "metadata": {},
   "outputs": [
    {
     "data": {
      "text/plain": [
       "1"
      ]
     },
     "execution_count": 48,
     "metadata": {},
     "output_type": "execute_result"
    }
   ],
   "source": [
    "x % 3"
   ]
  },
  {
   "cell_type": "code",
   "execution_count": 49,
   "id": "0838554d",
   "metadata": {},
   "outputs": [
    {
     "data": {
      "text/plain": [
       "3"
      ]
     },
     "execution_count": 49,
     "metadata": {},
     "output_type": "execute_result"
    }
   ],
   "source": [
    "y % 10"
   ]
  },
  {
   "cell_type": "code",
   "execution_count": 50,
   "id": "df4703d2",
   "metadata": {},
   "outputs": [],
   "source": [
    "UserAge = 30"
   ]
  },
  {
   "cell_type": "code",
   "execution_count": 51,
   "id": "1e1797bf",
   "metadata": {},
   "outputs": [
    {
     "data": {
      "text/plain": [
       "70"
      ]
     },
     "execution_count": 51,
     "metadata": {},
     "output_type": "execute_result"
    }
   ],
   "source": [
    "UserAge * 2 + 10"
   ]
  },
  {
   "cell_type": "code",
   "execution_count": 52,
   "id": "4706e04d",
   "metadata": {},
   "outputs": [],
   "source": [
    "# getting value from user with \"input\""
   ]
  },
  {
   "cell_type": "code",
   "execution_count": 53,
   "id": "084ac8f2",
   "metadata": {},
   "outputs": [
    {
     "name": "stdout",
     "output_type": "stream",
     "text": [
      "enter your age : 30\n"
     ]
    }
   ],
   "source": [
    "UserAge = input (\"enter your age : \")"
   ]
  },
  {
   "cell_type": "code",
   "execution_count": 54,
   "id": "0b145374",
   "metadata": {},
   "outputs": [
    {
     "data": {
      "text/plain": [
       "'30'"
      ]
     },
     "execution_count": 54,
     "metadata": {},
     "output_type": "execute_result"
    }
   ],
   "source": [
    "UserAge"
   ]
  },
  {
   "cell_type": "code",
   "execution_count": 55,
   "id": "f1d409da",
   "metadata": {},
   "outputs": [
    {
     "data": {
      "text/plain": [
       "str"
      ]
     },
     "execution_count": 55,
     "metadata": {},
     "output_type": "execute_result"
    }
   ],
   "source": [
    "type (UserAge)"
   ]
  },
  {
   "cell_type": "code",
   "execution_count": 56,
   "id": "def9b274",
   "metadata": {},
   "outputs": [],
   "source": [
    "# single quote mark says that's type is a string."
   ]
  },
  {
   "cell_type": "code",
   "execution_count": 57,
   "id": "0181316c",
   "metadata": {},
   "outputs": [
    {
     "data": {
      "text/plain": [
       "'3030303030'"
      ]
     },
     "execution_count": 57,
     "metadata": {},
     "output_type": "execute_result"
    }
   ],
   "source": [
    "UserAge * 5         ## the program get that a string so it does not get an intiger so result is like that . \n",
    "                    ## We can turn the string to the integer. (int())"
   ]
  },
  {
   "cell_type": "code",
   "execution_count": 58,
   "id": "5ba36b66",
   "metadata": {},
   "outputs": [],
   "source": [
    "z = int (UserAge)"
   ]
  },
  {
   "cell_type": "code",
   "execution_count": 59,
   "id": "66298501",
   "metadata": {},
   "outputs": [
    {
     "data": {
      "text/plain": [
       "30"
      ]
     },
     "execution_count": 59,
     "metadata": {},
     "output_type": "execute_result"
    }
   ],
   "source": [
    "z"
   ]
  },
  {
   "cell_type": "code",
   "execution_count": 60,
   "id": "217f4f54",
   "metadata": {},
   "outputs": [
    {
     "data": {
      "text/plain": [
       "75"
      ]
     },
     "execution_count": 60,
     "metadata": {},
     "output_type": "execute_result"
    }
   ],
   "source": [
    "z * 2 + 15"
   ]
  },
  {
   "cell_type": "markdown",
   "id": "497bf5b3",
   "metadata": {},
   "source": [
    "## String"
   ]
  },
  {
   "cell_type": "code",
   "execution_count": 61,
   "id": "efc9d4ad",
   "metadata": {},
   "outputs": [],
   "source": [
    "t = \"Hello world these are Gülcihan's codes\""
   ]
  },
  {
   "cell_type": "code",
   "execution_count": 62,
   "id": "8863383a",
   "metadata": {},
   "outputs": [
    {
     "data": {
      "text/plain": [
       "\"Hello world these are Gülcihan's codes\""
      ]
     },
     "execution_count": 62,
     "metadata": {},
     "output_type": "execute_result"
    }
   ],
   "source": [
    "t"
   ]
  },
  {
   "cell_type": "code",
   "execution_count": 63,
   "id": "2e90ac9a",
   "metadata": {},
   "outputs": [
    {
     "data": {
      "text/plain": [
       "str"
      ]
     },
     "execution_count": 63,
     "metadata": {},
     "output_type": "execute_result"
    }
   ],
   "source": [
    "type (t)"
   ]
  },
  {
   "cell_type": "code",
   "execution_count": 64,
   "id": "dc6d53a0",
   "metadata": {},
   "outputs": [
    {
     "data": {
      "text/plain": [
       "\"HELLO WORLD THESE ARE GÜLCIHAN'S CODES\""
      ]
     },
     "execution_count": 64,
     "metadata": {},
     "output_type": "execute_result"
    }
   ],
   "source": [
    "t.upper()"
   ]
  },
  {
   "cell_type": "code",
   "execution_count": 65,
   "id": "b09b130e",
   "metadata": {},
   "outputs": [
    {
     "data": {
      "text/plain": [
       "\"Hello world these are gülcihan's codes\""
      ]
     },
     "execution_count": 65,
     "metadata": {},
     "output_type": "execute_result"
    }
   ],
   "source": [
    "t.capitalize()"
   ]
  },
  {
   "cell_type": "code",
   "execution_count": 66,
   "id": "cf06fa1d",
   "metadata": {},
   "outputs": [
    {
     "data": {
      "text/plain": [
       "['Hello', 'world', 'these', 'are', \"Gülcihan's\", 'codes']"
      ]
     },
     "execution_count": 66,
     "metadata": {},
     "output_type": "execute_result"
    }
   ],
   "source": [
    "t.split()"
   ]
  },
  {
   "cell_type": "code",
   "execution_count": 67,
   "id": "748109e7",
   "metadata": {},
   "outputs": [],
   "source": [
    "l = \" you can read \""
   ]
  },
  {
   "cell_type": "code",
   "execution_count": 68,
   "id": "98e6f7a4",
   "metadata": {},
   "outputs": [
    {
     "data": {
      "text/plain": [
       "' you can read '"
      ]
     },
     "execution_count": 68,
     "metadata": {},
     "output_type": "execute_result"
    }
   ],
   "source": [
    "l"
   ]
  },
  {
   "cell_type": "code",
   "execution_count": 69,
   "id": "eaef16a0",
   "metadata": {},
   "outputs": [
    {
     "data": {
      "text/plain": [
       "\"Hello world these are Gülcihan's codes you can read \""
      ]
     },
     "execution_count": 69,
     "metadata": {},
     "output_type": "execute_result"
    }
   ],
   "source": [
    "t + l       "
   ]
  },
  {
   "cell_type": "code",
   "execution_count": 70,
   "id": "d92ba80d",
   "metadata": {},
   "outputs": [
    {
     "data": {
      "text/plain": [
       "' you can read  you can read  you can read '"
      ]
     },
     "execution_count": 70,
     "metadata": {},
     "output_type": "execute_result"
    }
   ],
   "source": [
    "l * 3"
   ]
  },
  {
   "cell_type": "code",
   "execution_count": 71,
   "id": "49e6354c",
   "metadata": {},
   "outputs": [],
   "source": [
    "# \"len\" gives lenght of the string "
   ]
  },
  {
   "cell_type": "code",
   "execution_count": 72,
   "id": "5099fda4",
   "metadata": {},
   "outputs": [
    {
     "data": {
      "text/plain": [
       "38"
      ]
     },
     "execution_count": 72,
     "metadata": {},
     "output_type": "execute_result"
    }
   ],
   "source": [
    "len (t)"
   ]
  },
  {
   "cell_type": "code",
   "execution_count": 73,
   "id": "0bb4102b",
   "metadata": {},
   "outputs": [
    {
     "data": {
      "text/plain": [
       "14"
      ]
     },
     "execution_count": 73,
     "metadata": {},
     "output_type": "execute_result"
    }
   ],
   "source": [
    "len (l)"
   ]
  },
  {
   "cell_type": "code",
   "execution_count": 74,
   "id": "2ffe4879",
   "metadata": {},
   "outputs": [],
   "source": [
    "# \\n  = new line "
   ]
  },
  {
   "cell_type": "code",
   "execution_count": 75,
   "id": "8a71d339",
   "metadata": {},
   "outputs": [
    {
     "name": "stdout",
     "output_type": "stream",
     "text": [
      "We are write code with phyton \n",
      "and we learning it now\n"
     ]
    }
   ],
   "source": [
    "print (\"We are write code with phyton \\nand we learning it now\")"
   ]
  },
  {
   "cell_type": "markdown",
   "id": "6ef0ca2e",
   "metadata": {},
   "source": [
    "## INDEX"
   ]
  },
  {
   "cell_type": "code",
   "execution_count": 76,
   "id": "df5663ec",
   "metadata": {},
   "outputs": [],
   "source": [
    "NameString = \"Gülcihan Gülmez\""
   ]
  },
  {
   "cell_type": "code",
   "execution_count": 77,
   "id": "201f7204",
   "metadata": {},
   "outputs": [
    {
     "data": {
      "text/plain": [
       "'Gülcihan Gülmez'"
      ]
     },
     "execution_count": 77,
     "metadata": {},
     "output_type": "execute_result"
    }
   ],
   "source": [
    "NameString"
   ]
  },
  {
   "cell_type": "code",
   "execution_count": 78,
   "id": "398e1658",
   "metadata": {},
   "outputs": [],
   "source": [
    "## We can reach a character that we want by indexing ."
   ]
  },
  {
   "cell_type": "code",
   "execution_count": 79,
   "id": "161940ec",
   "metadata": {},
   "outputs": [
    {
     "data": {
      "text/plain": [
       "'G'"
      ]
     },
     "execution_count": 79,
     "metadata": {},
     "output_type": "execute_result"
    }
   ],
   "source": [
    "NameString [0]"
   ]
  },
  {
   "cell_type": "code",
   "execution_count": 80,
   "id": "b0f84fba",
   "metadata": {},
   "outputs": [
    {
     "data": {
      "text/plain": [
       "'z'"
      ]
     },
     "execution_count": 80,
     "metadata": {},
     "output_type": "execute_result"
    }
   ],
   "source": [
    "NameString [14]"
   ]
  },
  {
   "cell_type": "code",
   "execution_count": 81,
   "id": "4021a358",
   "metadata": {},
   "outputs": [
    {
     "data": {
      "text/plain": [
       "'z'"
      ]
     },
     "execution_count": 81,
     "metadata": {},
     "output_type": "execute_result"
    }
   ],
   "source": [
    "NameString [-1]"
   ]
  },
  {
   "cell_type": "code",
   "execution_count": 82,
   "id": "3b7e3cc6",
   "metadata": {},
   "outputs": [],
   "source": [
    "letterString = \"abcdef\""
   ]
  },
  {
   "cell_type": "code",
   "execution_count": 83,
   "id": "d072f930",
   "metadata": {},
   "outputs": [
    {
     "data": {
      "text/plain": [
       "'c'"
      ]
     },
     "execution_count": 83,
     "metadata": {},
     "output_type": "execute_result"
    }
   ],
   "source": [
    "letterString [2]"
   ]
  },
  {
   "cell_type": "markdown",
   "id": "21392384",
   "metadata": {},
   "source": [
    "## Slicing = spliting text"
   ]
  },
  {
   "cell_type": "code",
   "execution_count": 84,
   "id": "7101f7b4",
   "metadata": {},
   "outputs": [
    {
     "data": {
      "text/plain": [
       "'cdef'"
      ]
     },
     "execution_count": 84,
     "metadata": {},
     "output_type": "execute_result"
    }
   ],
   "source": [
    "lettersString [2:]"
   ]
  },
  {
   "cell_type": "code",
   "execution_count": 85,
   "id": "e8dbb911",
   "metadata": {},
   "outputs": [
    {
     "data": {
      "text/plain": [
       "'ab'"
      ]
     },
     "execution_count": 85,
     "metadata": {},
     "output_type": "execute_result"
    }
   ],
   "source": [
    "letterString [:2]"
   ]
  },
  {
   "cell_type": "code",
   "execution_count": 87,
   "id": "4ad6f600",
   "metadata": {},
   "outputs": [],
   "source": [
    "firstData = \"Zeynep is 20\"\n",
    "secondData = \"Ayşe is 22\""
   ]
  },
  {
   "cell_type": "code",
   "execution_count": 89,
   "id": "1a8d423e",
   "metadata": {},
   "outputs": [
    {
     "data": {
      "text/plain": [
       "'20'"
      ]
     },
     "execution_count": 89,
     "metadata": {},
     "output_type": "execute_result"
    }
   ],
   "source": [
    "firstData [-2:]"
   ]
  },
  {
   "cell_type": "code",
   "execution_count": 90,
   "id": "174fb094",
   "metadata": {},
   "outputs": [
    {
     "data": {
      "text/plain": [
       "'22'"
      ]
     },
     "execution_count": 90,
     "metadata": {},
     "output_type": "execute_result"
    }
   ],
   "source": [
    "secondData [-2:]"
   ]
  },
  {
   "cell_type": "code",
   "execution_count": 92,
   "id": "167af472",
   "metadata": {},
   "outputs": [
    {
     "data": {
      "text/plain": [
       "'Zeynep'"
      ]
     },
     "execution_count": 92,
     "metadata": {},
     "output_type": "execute_result"
    }
   ],
   "source": [
    "firstData [0:6]          ## 0 is starting index and 6 is stoping index."
   ]
  },
  {
   "cell_type": "code",
   "execution_count": 93,
   "id": "11ccb0b9",
   "metadata": {},
   "outputs": [
    {
     "data": {
      "text/plain": [
       "'Ayşe'"
      ]
     },
     "execution_count": 93,
     "metadata": {},
     "output_type": "execute_result"
    }
   ],
   "source": [
    "secondData [0:4]"
   ]
  },
  {
   "cell_type": "code",
   "execution_count": 94,
   "id": "95893a37",
   "metadata": {},
   "outputs": [],
   "source": [
    "# Step Size "
   ]
  },
  {
   "cell_type": "code",
   "execution_count": 95,
   "id": "81a7ca07",
   "metadata": {},
   "outputs": [
    {
     "data": {
      "text/plain": [
       "'Zye s2'"
      ]
     },
     "execution_count": 95,
     "metadata": {},
     "output_type": "execute_result"
    }
   ],
   "source": [
    "firstData [::2]"
   ]
  },
  {
   "cell_type": "code",
   "execution_count": 96,
   "id": "45140f24",
   "metadata": {},
   "outputs": [
    {
     "data": {
      "text/plain": [
       "'Aes2'"
      ]
     },
     "execution_count": 96,
     "metadata": {},
     "output_type": "execute_result"
    }
   ],
   "source": [
    "secondData [::3]"
   ]
  },
  {
   "cell_type": "code",
   "execution_count": 97,
   "id": "f4964c9f",
   "metadata": {},
   "outputs": [
    {
     "data": {
      "text/plain": [
       "'02 si penyeZ'"
      ]
     },
     "execution_count": 97,
     "metadata": {},
     "output_type": "execute_result"
    }
   ],
   "source": [
    "firstData [::-1]       "
   ]
  },
  {
   "cell_type": "code",
   "execution_count": null,
   "id": "34a6014c",
   "metadata": {},
   "outputs": [],
   "source": []
  },
  {
   "cell_type": "code",
   "execution_count": 105,
   "id": "ab93efa3",
   "metadata": {},
   "outputs": [],
   "source": [
    "myName = \"gülcihan gülmez\""
   ]
  },
  {
   "cell_type": "code",
   "execution_count": 106,
   "id": "040f8b74",
   "metadata": {},
   "outputs": [
    {
     "data": {
      "text/plain": [
       "'Gülcihan gülmez'"
      ]
     },
     "execution_count": 106,
     "metadata": {},
     "output_type": "execute_result"
    }
   ],
   "source": [
    "myName.capitalize()"
   ]
  },
  {
   "cell_type": "code",
   "execution_count": 107,
   "id": "a33ef379",
   "metadata": {},
   "outputs": [
    {
     "data": {
      "text/plain": [
       "['gülcihan', 'gülmez']"
      ]
     },
     "execution_count": 107,
     "metadata": {},
     "output_type": "execute_result"
    }
   ],
   "source": [
    "myName.split()"
   ]
  },
  {
   "cell_type": "code",
   "execution_count": 108,
   "id": "cc6336ae",
   "metadata": {},
   "outputs": [
    {
     "data": {
      "text/plain": [
       "list"
      ]
     },
     "execution_count": 108,
     "metadata": {},
     "output_type": "execute_result"
    }
   ],
   "source": [
    "type(myName.split())"
   ]
  },
  {
   "cell_type": "code",
   "execution_count": 109,
   "id": "9224080a",
   "metadata": {},
   "outputs": [
    {
     "data": {
      "text/plain": [
       "'GÜLCIHAN GÜLMEZ'"
      ]
     },
     "execution_count": 109,
     "metadata": {},
     "output_type": "execute_result"
    }
   ],
   "source": [
    "myName.upper()"
   ]
  },
  {
   "cell_type": "code",
   "execution_count": 117,
   "id": "4dd169ec",
   "metadata": {},
   "outputs": [
    {
     "data": {
      "text/plain": [
       "['gül', 'ihan gülmez']"
      ]
     },
     "execution_count": 117,
     "metadata": {},
     "output_type": "execute_result"
    }
   ],
   "source": [
    "myName.split('c')"
   ]
  },
  {
   "cell_type": "code",
   "execution_count": 119,
   "id": "92f63b33",
   "metadata": {},
   "outputs": [
    {
     "data": {
      "text/plain": [
       "'gülcihan gülmez is my name.'"
      ]
     },
     "execution_count": 119,
     "metadata": {},
     "output_type": "execute_result"
    }
   ],
   "source": [
    "myName + \" is my name.\""
   ]
  },
  {
   "cell_type": "code",
   "execution_count": null,
   "id": "c3854e66",
   "metadata": {},
   "outputs": [],
   "source": []
  }
 ],
 "metadata": {
  "kernelspec": {
   "display_name": "Python 3 (ipykernel)",
   "language": "python",
   "name": "python3"
  },
  "language_info": {
   "codemirror_mode": {
    "name": "ipython",
    "version": 3
   },
   "file_extension": ".py",
   "mimetype": "text/x-python",
   "name": "python",
   "nbconvert_exporter": "python",
   "pygments_lexer": "ipython3",
   "version": "3.9.13"
  }
 },
 "nbformat": 4,
 "nbformat_minor": 5
}
