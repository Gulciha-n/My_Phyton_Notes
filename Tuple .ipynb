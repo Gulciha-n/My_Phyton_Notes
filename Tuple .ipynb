{
 "cells": [
  {
   "cell_type": "markdown",
   "id": "d46c76f8",
   "metadata": {},
   "source": [
    "## Tuple = immutable "
   ]
  },
  {
   "cell_type": "code",
   "execution_count": 1,
   "id": "2e0c1c63",
   "metadata": {},
   "outputs": [],
   "source": [
    "## Tuples are like lists. We can't change variables in tuple so they are different from list.\n",
    "## (We can change variables in list.)"
   ]
  },
  {
   "cell_type": "code",
   "execution_count": 5,
   "id": "e4a3daa2",
   "metadata": {},
   "outputs": [],
   "source": [
    "Tuple1 = (1 ,2 , \"a\" , 4.5 )"
   ]
  },
  {
   "cell_type": "code",
   "execution_count": 7,
   "id": "eafbd88f",
   "metadata": {},
   "outputs": [
    {
     "data": {
      "text/plain": [
       "1"
      ]
     },
     "execution_count": 7,
     "metadata": {},
     "output_type": "execute_result"
    }
   ],
   "source": [
    "Tuple1.count(2)"
   ]
  },
  {
   "cell_type": "code",
   "execution_count": 9,
   "id": "b2bb3534",
   "metadata": {},
   "outputs": [
    {
     "data": {
      "text/plain": [
       "3"
      ]
     },
     "execution_count": 9,
     "metadata": {},
     "output_type": "execute_result"
    }
   ],
   "source": [
    "Tuple1.index(4.5)"
   ]
  },
  {
   "cell_type": "code",
   "execution_count": 11,
   "id": "42344998",
   "metadata": {},
   "outputs": [
    {
     "ename": "TypeError",
     "evalue": "'tuple' object does not support item assignment",
     "output_type": "error",
     "traceback": [
      "\u001b[1;31m---------------------------------------------------------------------------\u001b[0m",
      "\u001b[1;31mTypeError\u001b[0m                                 Traceback (most recent call last)",
      "\u001b[1;32m~\\AppData\\Local\\Temp\\ipykernel_13052\\2045883212.py\u001b[0m in \u001b[0;36m<module>\u001b[1;34m\u001b[0m\n\u001b[1;32m----> 1\u001b[1;33m \u001b[0mTuple1\u001b[0m \u001b[1;33m[\u001b[0m\u001b[1;36m1\u001b[0m\u001b[1;33m]\u001b[0m \u001b[1;33m=\u001b[0m \u001b[1;36m7\u001b[0m    \u001b[1;31m## gives error because variables can't change in the tuple .\u001b[0m\u001b[1;33m\u001b[0m\u001b[1;33m\u001b[0m\u001b[0m\n\u001b[0m",
      "\u001b[1;31mTypeError\u001b[0m: 'tuple' object does not support item assignment"
     ]
    }
   ],
   "source": [
    "Tuple1 [1] = 7    ## gives error because variables can't change in the tuple ."
   ]
  }
 ],
 "metadata": {
  "kernelspec": {
   "display_name": "Python 3 (ipykernel)",
   "language": "python",
   "name": "python3"
  },
  "language_info": {
   "codemirror_mode": {
    "name": "ipython",
    "version": 3
   },
   "file_extension": ".py",
   "mimetype": "text/x-python",
   "name": "python",
   "nbconvert_exporter": "python",
   "pygments_lexer": "ipython3",
   "version": "3.9.13"
  }
 },
 "nbformat": 4,
 "nbformat_minor": 5
}
