{
 "cells": [
  {
   "cell_type": "markdown",
   "id": "a49e8a24",
   "metadata": {},
   "source": [
    "## Dictionary "
   ]
  },
  {
   "cell_type": "markdown",
   "id": "d845b81a",
   "metadata": {},
   "source": [
    "## Dictionary  = it is a collection that contain different variables .  They don't have indexes."
   ]
  },
  {
   "cell_type": "markdown",
   "id": "594650e1",
   "metadata": {},
   "source": [
    "## Dictionaries have key value pairing different from lists."
   ]
  },
  {
   "cell_type": "markdown",
   "id": "3692108a",
   "metadata": {},
   "source": [
    "## Key - Value pairing "
   ]
  },
  {
   "cell_type": "code",
   "execution_count": 1,
   "id": "4ad7a3a1",
   "metadata": {},
   "outputs": [],
   "source": [
    "MyFoods = [\"meat\", \"rice\", \"salad\"]"
   ]
  },
  {
   "cell_type": "code",
   "execution_count": 2,
   "id": "67e154e8",
   "metadata": {},
   "outputs": [],
   "source": [
    "MyCalories = [300 , 200 , 100]"
   ]
  },
  {
   "cell_type": "code",
   "execution_count": 3,
   "id": "a7246943",
   "metadata": {},
   "outputs": [
    {
     "data": {
      "text/plain": [
       "'rice'"
      ]
     },
     "execution_count": 3,
     "metadata": {},
     "output_type": "execute_result"
    }
   ],
   "source": [
    "MyFoods [1]"
   ]
  },
  {
   "cell_type": "code",
   "execution_count": 4,
   "id": "bf4f6d16",
   "metadata": {},
   "outputs": [
    {
     "data": {
      "text/plain": [
       "200"
      ]
     },
     "execution_count": 4,
     "metadata": {},
     "output_type": "execute_result"
    }
   ],
   "source": [
    "MyCalories [1]"
   ]
  },
  {
   "cell_type": "markdown",
   "id": "6c61658d",
   "metadata": {},
   "source": [
    "## Dictionary = { \"keyword\"  :  \"value\" }"
   ]
  },
  {
   "cell_type": "code",
   "execution_count": 5,
   "id": "55f99591",
   "metadata": {},
   "outputs": [],
   "source": [
    "Mydictionary = {\"KeyWord \":\"Value\"}"
   ]
  },
  {
   "cell_type": "code",
   "execution_count": 6,
   "id": "ebf9b126",
   "metadata": {},
   "outputs": [
    {
     "data": {
      "text/plain": [
       "{'KeyWord ': 'Value'}"
      ]
     },
     "execution_count": 6,
     "metadata": {},
     "output_type": "execute_result"
    }
   ],
   "source": [
    "Mydictionary"
   ]
  },
  {
   "cell_type": "code",
   "execution_count": 7,
   "id": "efede685",
   "metadata": {},
   "outputs": [
    {
     "data": {
      "text/plain": [
       "dict"
      ]
     },
     "execution_count": 7,
     "metadata": {},
     "output_type": "execute_result"
    }
   ],
   "source": [
    "type (Mydictionary)"
   ]
  },
  {
   "cell_type": "code",
   "execution_count": 8,
   "id": "3d4bbeb7",
   "metadata": {},
   "outputs": [],
   "source": [
    "Myfruits = {\"apple\" : 52 , \"chery\" : 50 , \"banana\" : 88}"
   ]
  },
  {
   "cell_type": "code",
   "execution_count": 13,
   "id": "758dcff3",
   "metadata": {},
   "outputs": [
    {
     "data": {
      "text/plain": [
       "{'apple': 52, 'chery': 50, 'banana': 100}"
      ]
     },
     "execution_count": 13,
     "metadata": {},
     "output_type": "execute_result"
    }
   ],
   "source": [
    "Myfruits"
   ]
  },
  {
   "cell_type": "code",
   "execution_count": 14,
   "id": "f9850c31",
   "metadata": {},
   "outputs": [],
   "source": [
    "## We can change values like lists ."
   ]
  },
  {
   "cell_type": "code",
   "execution_count": 15,
   "id": "7c49e39d",
   "metadata": {},
   "outputs": [],
   "source": [
    "Myfruits [\"banana\"] = 100 "
   ]
  },
  {
   "cell_type": "code",
   "execution_count": 16,
   "id": "6da1011f",
   "metadata": {},
   "outputs": [
    {
     "data": {
      "text/plain": [
       "{'apple': 52, 'chery': 50, 'banana': 100}"
      ]
     },
     "execution_count": 16,
     "metadata": {},
     "output_type": "execute_result"
    }
   ],
   "source": [
    "Myfruits"
   ]
  },
  {
   "cell_type": "code",
   "execution_count": 17,
   "id": "d747adb9",
   "metadata": {},
   "outputs": [],
   "source": [
    "Calories = {1 :\"pide\" , 2 : \"kebap\"}"
   ]
  },
  {
   "cell_type": "code",
   "execution_count": 18,
   "id": "6e13632d",
   "metadata": {},
   "outputs": [
    {
     "data": {
      "text/plain": [
       "'pide'"
      ]
     },
     "execution_count": 18,
     "metadata": {},
     "output_type": "execute_result"
    }
   ],
   "source": [
    "Calories [1]"
   ]
  },
  {
   "cell_type": "code",
   "execution_count": 19,
   "id": "2eff17bf",
   "metadata": {},
   "outputs": [
    {
     "data": {
      "text/plain": [
       "'kebap'"
      ]
     },
     "execution_count": 19,
     "metadata": {},
     "output_type": "execute_result"
    }
   ],
   "source": [
    "Calories [2]"
   ]
  },
  {
   "cell_type": "markdown",
   "id": "65c378ba",
   "metadata": {},
   "source": [
    "-------------------------------------------------------------------------------------------------------------------------------"
   ]
  },
  {
   "cell_type": "code",
   "execution_count": 21,
   "id": "74371349",
   "metadata": {},
   "outputs": [],
   "source": [
    "NewDictionary = {\"key1\" : 100 , \"key2\" : [10,20,30,40,\"gülcihan\"] , \"key3\" : {\"key7\" : 30}}"
   ]
  },
  {
   "cell_type": "code",
   "execution_count": 23,
   "id": "4dbb1cfb",
   "metadata": {},
   "outputs": [
    {
     "data": {
      "text/plain": [
       "dict"
      ]
     },
     "execution_count": 23,
     "metadata": {},
     "output_type": "execute_result"
    }
   ],
   "source": [
    "type (NewDictionary)"
   ]
  },
  {
   "cell_type": "code",
   "execution_count": 26,
   "id": "ee0e0d52",
   "metadata": {},
   "outputs": [
    {
     "data": {
      "text/plain": [
       "int"
      ]
     },
     "execution_count": 26,
     "metadata": {},
     "output_type": "execute_result"
    }
   ],
   "source": [
    "type (NewDictionary [\"key1\"])"
   ]
  },
  {
   "cell_type": "code",
   "execution_count": 28,
   "id": "92d4560e",
   "metadata": {},
   "outputs": [
    {
     "data": {
      "text/plain": [
       "list"
      ]
     },
     "execution_count": 28,
     "metadata": {},
     "output_type": "execute_result"
    }
   ],
   "source": [
    "type (NewDictionary[\"key2\"])"
   ]
  },
  {
   "cell_type": "code",
   "execution_count": 29,
   "id": "8da8960a",
   "metadata": {},
   "outputs": [
    {
     "data": {
      "text/plain": [
       "dict"
      ]
     },
     "execution_count": 29,
     "metadata": {},
     "output_type": "execute_result"
    }
   ],
   "source": [
    "type (NewDictionary [\"key3\"])"
   ]
  },
  {
   "cell_type": "code",
   "execution_count": 40,
   "id": "2a4a8d82",
   "metadata": {},
   "outputs": [
    {
     "data": {
      "text/plain": [
       "'gülcihan'"
      ]
     },
     "execution_count": 40,
     "metadata": {},
     "output_type": "execute_result"
    }
   ],
   "source": [
    "NewDictionary [\"key2\"][4]"
   ]
  },
  {
   "cell_type": "code",
   "execution_count": 39,
   "id": "dfd44f52",
   "metadata": {},
   "outputs": [
    {
     "data": {
      "text/plain": [
       "30"
      ]
     },
     "execution_count": 39,
     "metadata": {},
     "output_type": "execute_result"
    }
   ],
   "source": [
    "NewDictionary [\"key3\"][\"key7\"]"
   ]
  },
  {
   "cell_type": "code",
   "execution_count": 42,
   "id": "3bfa740a",
   "metadata": {},
   "outputs": [
    {
     "data": {
      "text/plain": [
       "dict_keys(['key1', 'key2', 'key3'])"
      ]
     },
     "execution_count": 42,
     "metadata": {},
     "output_type": "execute_result"
    }
   ],
   "source": [
    "NewDictionary.keys()"
   ]
  },
  {
   "cell_type": "code",
   "execution_count": 43,
   "id": "38b645a3",
   "metadata": {},
   "outputs": [
    {
     "data": {
      "text/plain": [
       "dict_items([('key1', 100), ('key2', [10, 20, 30, 40, 'gülcihan']), ('key3', {'key7': 30})])"
      ]
     },
     "execution_count": 43,
     "metadata": {},
     "output_type": "execute_result"
    }
   ],
   "source": [
    "NewDictionary.items()"
   ]
  },
  {
   "cell_type": "code",
   "execution_count": 44,
   "id": "e86b1754",
   "metadata": {},
   "outputs": [
    {
     "data": {
      "text/plain": [
       "dict_values([100, [10, 20, 30, 40, 'gülcihan'], {'key7': 30}])"
      ]
     },
     "execution_count": 44,
     "metadata": {},
     "output_type": "execute_result"
    }
   ],
   "source": [
    "NewDictionary.values()"
   ]
  }
 ],
 "metadata": {
  "kernelspec": {
   "display_name": "Python 3 (ipykernel)",
   "language": "python",
   "name": "python3"
  },
  "language_info": {
   "codemirror_mode": {
    "name": "ipython",
    "version": 3
   },
   "file_extension": ".py",
   "mimetype": "text/x-python",
   "name": "python",
   "nbconvert_exporter": "python",
   "pygments_lexer": "ipython3",
   "version": "3.9.13"
  }
 },
 "nbformat": 4,
 "nbformat_minor": 5
}
