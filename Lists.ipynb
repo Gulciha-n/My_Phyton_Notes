{
 "cells": [
  {
   "cell_type": "markdown",
   "id": "43d5bdfb",
   "metadata": {},
   "source": [
    "## Lists"
   ]
  },
  {
   "cell_type": "code",
   "execution_count": 1,
   "id": "e6468dab",
   "metadata": {},
   "outputs": [],
   "source": [
    "## mutable & immutability"
   ]
  },
  {
   "cell_type": "code",
   "execution_count": 2,
   "id": "babe5bb3",
   "metadata": {},
   "outputs": [],
   "source": [
    "## a veraible can not change in string but it can change in the list ."
   ]
  },
  {
   "cell_type": "code",
   "execution_count": 3,
   "id": "1bc4c9c3",
   "metadata": {},
   "outputs": [],
   "source": [
    "MyList = [20, 30, 40, 50, 60]"
   ]
  },
  {
   "cell_type": "code",
   "execution_count": 4,
   "id": "d40bcf5b",
   "metadata": {},
   "outputs": [
    {
     "data": {
      "text/plain": [
       "list"
      ]
     },
     "execution_count": 4,
     "metadata": {},
     "output_type": "execute_result"
    }
   ],
   "source": [
    "type (MyList)"
   ]
  },
  {
   "cell_type": "code",
   "execution_count": 5,
   "id": "f2443ce8",
   "metadata": {},
   "outputs": [
    {
     "data": {
      "text/plain": [
       "40"
      ]
     },
     "execution_count": 5,
     "metadata": {},
     "output_type": "execute_result"
    }
   ],
   "source": [
    "MyList [2]"
   ]
  },
  {
   "cell_type": "code",
   "execution_count": 10,
   "id": "4ce56f53",
   "metadata": {},
   "outputs": [],
   "source": [
    "x = 25 \n",
    "y = 30 \n",
    "z = 35\n",
    "t = 40"
   ]
  },
  {
   "cell_type": "code",
   "execution_count": 11,
   "id": "0c91ad84",
   "metadata": {},
   "outputs": [],
   "source": [
    "firstList = [x , y , z , t]"
   ]
  },
  {
   "cell_type": "code",
   "execution_count": 15,
   "id": "7d0639b7",
   "metadata": {},
   "outputs": [
    {
     "data": {
      "text/plain": [
       "35"
      ]
     },
     "execution_count": 15,
     "metadata": {},
     "output_type": "execute_result"
    }
   ],
   "source": [
    "firstList [2]"
   ]
  },
  {
   "cell_type": "code",
   "execution_count": 16,
   "id": "b4f3e37f",
   "metadata": {},
   "outputs": [
    {
     "data": {
      "text/plain": [
       "[25, 30, 35, 40]"
      ]
     },
     "execution_count": 16,
     "metadata": {},
     "output_type": "execute_result"
    }
   ],
   "source": [
    "firstList"
   ]
  },
  {
   "cell_type": "code",
   "execution_count": 19,
   "id": "0db9818c",
   "metadata": {},
   "outputs": [],
   "source": [
    "# Veraibles values can be changed."
   ]
  },
  {
   "cell_type": "code",
   "execution_count": 20,
   "id": "41c954b2",
   "metadata": {},
   "outputs": [],
   "source": [
    "firstList [0] = 45         # change index zeroth."
   ]
  },
  {
   "cell_type": "markdown",
   "id": "e7d0b6fd",
   "metadata": {},
   "source": [
    "----------------------------------------------------------------"
   ]
  },
  {
   "cell_type": "code",
   "execution_count": 65,
   "id": "5e0ed9b6",
   "metadata": {},
   "outputs": [],
   "source": [
    "secondList = [1,2,3,4,5,6,7,8,9,9,9]"
   ]
  },
  {
   "cell_type": "code",
   "execution_count": 66,
   "id": "9b624059",
   "metadata": {},
   "outputs": [
    {
     "data": {
      "text/plain": [
       "[1, 2, 3, 4, 5, 6, 7, 8, 9, 9, 9]"
      ]
     },
     "execution_count": 66,
     "metadata": {},
     "output_type": "execute_result"
    }
   ],
   "source": [
    "secondList"
   ]
  },
  {
   "cell_type": "markdown",
   "id": "422912ef",
   "metadata": {},
   "source": [
    "## .append = add a new veriable to the list"
   ]
  },
  {
   "cell_type": "code",
   "execution_count": 67,
   "id": "0c4e3465",
   "metadata": {},
   "outputs": [],
   "source": [
    "secondList.append(10)"
   ]
  },
  {
   "cell_type": "code",
   "execution_count": 68,
   "id": "9bae3291",
   "metadata": {},
   "outputs": [
    {
     "data": {
      "text/plain": [
       "[1, 2, 3, 4, 5, 6, 7, 8, 9, 9, 9, 10]"
      ]
     },
     "execution_count": 68,
     "metadata": {},
     "output_type": "execute_result"
    }
   ],
   "source": [
    "secondList"
   ]
  },
  {
   "cell_type": "markdown",
   "id": "48066e37",
   "metadata": {},
   "source": [
    "## .remove"
   ]
  },
  {
   "cell_type": "code",
   "execution_count": 69,
   "id": "1cc2b9f0",
   "metadata": {},
   "outputs": [],
   "source": [
    "secondList.remove(1)"
   ]
  },
  {
   "cell_type": "code",
   "execution_count": 70,
   "id": "7a2db00f",
   "metadata": {},
   "outputs": [
    {
     "data": {
      "text/plain": [
       "[2, 3, 4, 5, 6, 7, 8, 9, 9, 9, 10]"
      ]
     },
     "execution_count": 70,
     "metadata": {},
     "output_type": "execute_result"
    }
   ],
   "source": [
    "secondList"
   ]
  },
  {
   "cell_type": "markdown",
   "id": "72de464d",
   "metadata": {},
   "source": [
    "## .reverse"
   ]
  },
  {
   "cell_type": "code",
   "execution_count": 71,
   "id": "6c141f29",
   "metadata": {},
   "outputs": [],
   "source": [
    "secondList.reverse()"
   ]
  },
  {
   "cell_type": "code",
   "execution_count": 72,
   "id": "0d972ddc",
   "metadata": {},
   "outputs": [
    {
     "data": {
      "text/plain": [
       "[10, 9, 9, 9, 8, 7, 6, 5, 4, 3, 2]"
      ]
     },
     "execution_count": 72,
     "metadata": {},
     "output_type": "execute_result"
    }
   ],
   "source": [
    "secondList"
   ]
  },
  {
   "cell_type": "markdown",
   "id": "d8202fd2",
   "metadata": {},
   "source": [
    "## .count = count how many of the same variable. "
   ]
  },
  {
   "cell_type": "code",
   "execution_count": 74,
   "id": "115579d3",
   "metadata": {},
   "outputs": [
    {
     "data": {
      "text/plain": [
       "3"
      ]
     },
     "execution_count": 74,
     "metadata": {},
     "output_type": "execute_result"
    }
   ],
   "source": [
    "secondList.count(9)"
   ]
  },
  {
   "cell_type": "markdown",
   "id": "b72a3119",
   "metadata": {},
   "source": [
    "------------------------------------------------"
   ]
  },
  {
   "cell_type": "code",
   "execution_count": 75,
   "id": "af833e7e",
   "metadata": {},
   "outputs": [],
   "source": [
    "nameList = [\"ali\",\"ayşe\",\"mehmet\",\"zehra\"]"
   ]
  },
  {
   "cell_type": "code",
   "execution_count": 76,
   "id": "08802385",
   "metadata": {},
   "outputs": [],
   "source": [
    "othernameList = [\"ahmet\",\"zeynep\",\"pelin\",\"derya\"]"
   ]
  },
  {
   "cell_type": "code",
   "execution_count": 78,
   "id": "f984d381",
   "metadata": {},
   "outputs": [],
   "source": [
    "sumList = nameList + othernameList"
   ]
  },
  {
   "cell_type": "code",
   "execution_count": 79,
   "id": "90729e7a",
   "metadata": {},
   "outputs": [
    {
     "data": {
      "text/plain": [
       "['ali', 'ayşe', 'mehmet', 'zehra', 'ahmet', 'zeynep', 'pelin', 'derya']"
      ]
     },
     "execution_count": 79,
     "metadata": {},
     "output_type": "execute_result"
    }
   ],
   "source": [
    "sumList"
   ]
  },
  {
   "cell_type": "code",
   "execution_count": 82,
   "id": "8dc5fb61",
   "metadata": {},
   "outputs": [],
   "source": [
    "sumList.reverse()"
   ]
  },
  {
   "cell_type": "code",
   "execution_count": 83,
   "id": "4f2d9472",
   "metadata": {},
   "outputs": [
    {
     "data": {
      "text/plain": [
       "['derya', 'pelin', 'zeynep', 'ahmet', 'zehra', 'mehmet', 'ayşe', 'ali']"
      ]
     },
     "execution_count": 83,
     "metadata": {},
     "output_type": "execute_result"
    }
   ],
   "source": [
    "sumList"
   ]
  },
  {
   "cell_type": "code",
   "execution_count": 86,
   "id": "d8ba2af2",
   "metadata": {},
   "outputs": [
    {
     "data": {
      "text/plain": [
       "['ali',\n",
       " 'ayşe',\n",
       " 'mehmet',\n",
       " 'zehra',\n",
       " 'ali',\n",
       " 'ayşe',\n",
       " 'mehmet',\n",
       " 'zehra',\n",
       " 'ali',\n",
       " 'ayşe',\n",
       " 'mehmet',\n",
       " 'zehra']"
      ]
     },
     "execution_count": 86,
     "metadata": {},
     "output_type": "execute_result"
    }
   ],
   "source": [
    "nameList * 3"
   ]
  },
  {
   "cell_type": "markdown",
   "id": "39d7f689",
   "metadata": {},
   "source": [
    "---------------------------------------------------------------------------------------------------------------------"
   ]
  },
  {
   "cell_type": "code",
   "execution_count": 87,
   "id": "0e4ad0af",
   "metadata": {},
   "outputs": [],
   "source": [
    "MixedList = [10 , 20 , \"a\" , \"gülcihan\"]"
   ]
  },
  {
   "cell_type": "code",
   "execution_count": 88,
   "id": "24dab839",
   "metadata": {},
   "outputs": [
    {
     "data": {
      "text/plain": [
       "list"
      ]
     },
     "execution_count": 88,
     "metadata": {},
     "output_type": "execute_result"
    }
   ],
   "source": [
    "type (MixedList)"
   ]
  },
  {
   "cell_type": "code",
   "execution_count": 89,
   "id": "cd582be2",
   "metadata": {},
   "outputs": [],
   "source": [
    "A = MixedList[1]"
   ]
  },
  {
   "cell_type": "code",
   "execution_count": 90,
   "id": "cef5b195",
   "metadata": {},
   "outputs": [
    {
     "data": {
      "text/plain": [
       "20"
      ]
     },
     "execution_count": 90,
     "metadata": {},
     "output_type": "execute_result"
    }
   ],
   "source": [
    "A"
   ]
  },
  {
   "cell_type": "code",
   "execution_count": 91,
   "id": "550010b0",
   "metadata": {},
   "outputs": [
    {
     "data": {
      "text/plain": [
       "int"
      ]
     },
     "execution_count": 91,
     "metadata": {},
     "output_type": "execute_result"
    }
   ],
   "source": [
    "type (A)"
   ]
  },
  {
   "cell_type": "code",
   "execution_count": 93,
   "id": "768c0dff",
   "metadata": {},
   "outputs": [],
   "source": [
    "B = MixedList [3]"
   ]
  },
  {
   "cell_type": "code",
   "execution_count": 94,
   "id": "a910412f",
   "metadata": {},
   "outputs": [
    {
     "data": {
      "text/plain": [
       "'gülcihan'"
      ]
     },
     "execution_count": 94,
     "metadata": {},
     "output_type": "execute_result"
    }
   ],
   "source": [
    "B "
   ]
  },
  {
   "cell_type": "code",
   "execution_count": 95,
   "id": "ce7d36ea",
   "metadata": {},
   "outputs": [
    {
     "data": {
      "text/plain": [
       "str"
      ]
     },
     "execution_count": 95,
     "metadata": {},
     "output_type": "execute_result"
    }
   ],
   "source": [
    "type (B)"
   ]
  },
  {
   "cell_type": "markdown",
   "id": "71dff213",
   "metadata": {},
   "source": [
    "## Nested lists"
   ]
  },
  {
   "cell_type": "code",
   "execution_count": 97,
   "id": "f90d6322",
   "metadata": {},
   "outputs": [],
   "source": [
    "nestedList = [1 , 2 , \"derya\" , 3 , [4 , \"b\"]]"
   ]
  },
  {
   "cell_type": "code",
   "execution_count": 98,
   "id": "1c71ab31",
   "metadata": {},
   "outputs": [
    {
     "data": {
      "text/plain": [
       "[1, 2, 'derya', 3, [4, 'b']]"
      ]
     },
     "execution_count": 98,
     "metadata": {},
     "output_type": "execute_result"
    }
   ],
   "source": [
    "nestedList"
   ]
  },
  {
   "cell_type": "code",
   "execution_count": 99,
   "id": "bfcf5cfe",
   "metadata": {},
   "outputs": [
    {
     "data": {
      "text/plain": [
       "'derya'"
      ]
     },
     "execution_count": 99,
     "metadata": {},
     "output_type": "execute_result"
    }
   ],
   "source": [
    "nestedList[2]"
   ]
  },
  {
   "cell_type": "code",
   "execution_count": 104,
   "id": "ce756568",
   "metadata": {},
   "outputs": [
    {
     "data": {
      "text/plain": [
       "[4, 'b']"
      ]
     },
     "execution_count": 104,
     "metadata": {},
     "output_type": "execute_result"
    }
   ],
   "source": [
    "nestedList[4]"
   ]
  },
  {
   "cell_type": "code",
   "execution_count": 107,
   "id": "e17e944e",
   "metadata": {},
   "outputs": [],
   "source": [
    "bValue = nestedList[4][1]"
   ]
  },
  {
   "cell_type": "code",
   "execution_count": 108,
   "id": "4f6c72fa",
   "metadata": {},
   "outputs": [
    {
     "data": {
      "text/plain": [
       "'b'"
      ]
     },
     "execution_count": 108,
     "metadata": {},
     "output_type": "execute_result"
    }
   ],
   "source": [
    "bValue"
   ]
  },
  {
   "cell_type": "code",
   "execution_count": 109,
   "id": "ef9fb5fd",
   "metadata": {},
   "outputs": [],
   "source": [
    "numbersValue = nestedList[4][0]"
   ]
  },
  {
   "cell_type": "code",
   "execution_count": 110,
   "id": "8d4d763e",
   "metadata": {},
   "outputs": [
    {
     "data": {
      "text/plain": [
       "4"
      ]
     },
     "execution_count": 110,
     "metadata": {},
     "output_type": "execute_result"
    }
   ],
   "source": [
    "numbersValue"
   ]
  },
  {
   "cell_type": "code",
   "execution_count": 122,
   "id": "4f5baea6",
   "metadata": {},
   "outputs": [
    {
     "data": {
      "text/plain": [
       "['derya', 3, [4, 'b']]"
      ]
     },
     "execution_count": 122,
     "metadata": {},
     "output_type": "execute_result"
    }
   ],
   "source": [
    "nestedList[2:]"
   ]
  },
  {
   "cell_type": "code",
   "execution_count": 123,
   "id": "af50a3cd",
   "metadata": {},
   "outputs": [],
   "source": [
    "hardList = [[1,2,3,4,[\"a\",\"b\",\"c\"]] , 30 , 40 , [[\"g\",\"ü\",\"l\"] , 50 ] , \"Gülcihan\" ]"
   ]
  },
  {
   "cell_type": "code",
   "execution_count": 124,
   "id": "2f3a9de6",
   "metadata": {},
   "outputs": [
    {
     "data": {
      "text/plain": [
       "[[1, 2, 3, 4, ['a', 'b', 'c']], 30, 40, [['g', 'ü', 'l'], 50], 'Gülcihan']"
      ]
     },
     "execution_count": 124,
     "metadata": {},
     "output_type": "execute_result"
    }
   ],
   "source": [
    "hardList"
   ]
  },
  {
   "cell_type": "code",
   "execution_count": 125,
   "id": "244bbb93",
   "metadata": {},
   "outputs": [
    {
     "data": {
      "text/plain": [
       "'Gülcihan'"
      ]
     },
     "execution_count": 125,
     "metadata": {},
     "output_type": "execute_result"
    }
   ],
   "source": [
    "hardList[4]"
   ]
  },
  {
   "cell_type": "code",
   "execution_count": 126,
   "id": "9110a602",
   "metadata": {},
   "outputs": [],
   "source": [
    "firstLetter = hardList [0][4][0]"
   ]
  },
  {
   "cell_type": "code",
   "execution_count": 127,
   "id": "279f5e43",
   "metadata": {},
   "outputs": [
    {
     "data": {
      "text/plain": [
       "'a'"
      ]
     },
     "execution_count": 127,
     "metadata": {},
     "output_type": "execute_result"
    }
   ],
   "source": [
    "firstLetter"
   ]
  },
  {
   "cell_type": "code",
   "execution_count": 128,
   "id": "0c28b2d3",
   "metadata": {},
   "outputs": [],
   "source": [
    "secondLetter = hardList [3][1]"
   ]
  },
  {
   "cell_type": "code",
   "execution_count": 129,
   "id": "d3a5e3d8",
   "metadata": {},
   "outputs": [
    {
     "data": {
      "text/plain": [
       "50"
      ]
     },
     "execution_count": 129,
     "metadata": {},
     "output_type": "execute_result"
    }
   ],
   "source": [
    "secondLetter"
   ]
  },
  {
   "cell_type": "code",
   "execution_count": 130,
   "id": "84a13c22",
   "metadata": {},
   "outputs": [
    {
     "data": {
      "text/plain": [
       "[30, 40, [['g', 'ü', 'l'], 50], 'Gülcihan']"
      ]
     },
     "execution_count": 130,
     "metadata": {},
     "output_type": "execute_result"
    }
   ],
   "source": [
    "hardList [1:]"
   ]
  },
  {
   "cell_type": "code",
   "execution_count": 133,
   "id": "13160de6",
   "metadata": {},
   "outputs": [
    {
     "data": {
      "text/plain": [
       "[[['g', 'ü', 'l'], 50]]"
      ]
     },
     "execution_count": 133,
     "metadata": {},
     "output_type": "execute_result"
    }
   ],
   "source": [
    "hardList [3:4]"
   ]
  },
  {
   "cell_type": "code",
   "execution_count": 134,
   "id": "956b4de1",
   "metadata": {},
   "outputs": [
    {
     "data": {
      "text/plain": [
       "list"
      ]
     },
     "execution_count": 134,
     "metadata": {},
     "output_type": "execute_result"
    }
   ],
   "source": [
    "type (hardList[3:4])"
   ]
  }
 ],
 "metadata": {
  "kernelspec": {
   "display_name": "Python 3 (ipykernel)",
   "language": "python",
   "name": "python3"
  },
  "language_info": {
   "codemirror_mode": {
    "name": "ipython",
    "version": 3
   },
   "file_extension": ".py",
   "mimetype": "text/x-python",
   "name": "python",
   "nbconvert_exporter": "python",
   "pygments_lexer": "ipython3",
   "version": "3.9.13"
  }
 },
 "nbformat": 4,
 "nbformat_minor": 5
}
